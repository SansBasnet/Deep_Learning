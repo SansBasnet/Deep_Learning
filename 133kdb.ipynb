{
  "nbformat": 4,
  "nbformat_minor": 0,
  "metadata": {
    "colab": {
      "name": "500db.ipynb",
      "provenance": [],
      "include_colab_link": true
    },
    "kernelspec": {
      "name": "python3",
      "display_name": "Python 3"
    }
  },
  "cells": [
    {
      "cell_type": "markdown",
      "metadata": {
        "id": "view-in-github",
        "colab_type": "text"
      },
      "source": [
        "<a href=\"https://colab.research.google.com/github/SansBasnet/Deep_Learning/blob/master/133kdb.ipynb\" target=\"_parent\"><img src=\"https://colab.research.google.com/assets/colab-badge.svg\" alt=\"Open In Colab\"/></a>"
      ]
    },
    {
      "cell_type": "code",
      "metadata": {
        "colab": {
          "base_uri": "https://localhost:8080/"
        },
        "id": "k9_pYW7ZJczq",
        "outputId": "6135b26a-4e71-4c12-8dcd-c234daa78271"
      },
      "source": [
        "import os\n",
        "import pandas as pd\n",
        "from google.colab import drive\n",
        "drive.mount('/content/drive')"
      ],
      "execution_count": 1,
      "outputs": [
        {
          "output_type": "stream",
          "text": [
            "Drive already mounted at /content/drive; to attempt to forcibly remount, call drive.mount(\"/content/drive\", force_remount=True).\n"
          ],
          "name": "stdout"
        }
      ]
    },
    {
      "cell_type": "code",
      "metadata": {
        "colab": {
          "base_uri": "https://localhost:8080/"
        },
        "id": "HZoOt51TJhzO",
        "outputId": "39c06e11-2dbe-41ce-9ece-d6e9407107a9"
      },
      "source": [
        "%ls drive/'My Drive/test_db/'\n",
        "\n",
        "os.chdir('/content/drive/My Drive/test_db/')"
      ],
      "execution_count": 2,
      "outputs": [
        {
          "output_type": "stream",
          "text": [
            " 120.csv    3col700.csv   50db.csv  '50(list)db.csv'\n",
            " 132k.csv   500db.csv     50df.csv   761db.csv\n"
          ],
          "name": "stdout"
        }
      ]
    },
    {
      "cell_type": "code",
      "metadata": {
        "colab": {
          "base_uri": "https://localhost:8080/",
          "height": 407
        },
        "id": "S1i3S3e6JuM-",
        "outputId": "ef0096af-dd9c-4f1a-a5cf-6625dee49743"
      },
      "source": [
        "df = pd.read_csv(\"132k.csv\")\n",
        "df"
      ],
      "execution_count": 3,
      "outputs": [
        {
          "output_type": "execute_result",
          "data": {
            "text/html": [
              "<div>\n",
              "<style scoped>\n",
              "    .dataframe tbody tr th:only-of-type {\n",
              "        vertical-align: middle;\n",
              "    }\n",
              "\n",
              "    .dataframe tbody tr th {\n",
              "        vertical-align: top;\n",
              "    }\n",
              "\n",
              "    .dataframe thead th {\n",
              "        text-align: right;\n",
              "    }\n",
              "</style>\n",
              "<table border=\"1\" class=\"dataframe\">\n",
              "  <thead>\n",
              "    <tr style=\"text-align: right;\">\n",
              "      <th></th>\n",
              "      <th>body</th>\n",
              "      <th>title</th>\n",
              "      <th>tag_1</th>\n",
              "    </tr>\n",
              "  </thead>\n",
              "  <tbody>\n",
              "    <tr>\n",
              "      <th>0</th>\n",
              "      <td>&lt;p&gt;According to people's memory curve, the mem...</td>\n",
              "      <td>after class</td>\n",
              "      <td>Mathematics</td>\n",
              "    </tr>\n",
              "    <tr>\n",
              "      <th>1</th>\n",
              "      <td>&lt;p&gt;&lt;img alt=\"\" src=\"https://storage.googleapis...</td>\n",
              "      <td>Calculus is embedded in our daily routines</td>\n",
              "      <td>Mathematics</td>\n",
              "    </tr>\n",
              "    <tr>\n",
              "      <th>2</th>\n",
              "      <td>&lt;p&gt;As a computer science major, I have come to...</td>\n",
              "      <td>Higher-level mathematics improve performance i...</td>\n",
              "      <td>Mathematics</td>\n",
              "    </tr>\n",
              "    <tr>\n",
              "      <th>3</th>\n",
              "      <td>This post has been removed.</td>\n",
              "      <td>This post has been removed.</td>\n",
              "      <td>Human geography</td>\n",
              "    </tr>\n",
              "    <tr>\n",
              "      <th>4</th>\n",
              "      <td>&lt;p&gt;Opportunities possible because of education...</td>\n",
              "      <td>Opportunities possible because of education, d...</td>\n",
              "      <td>Human geography</td>\n",
              "    </tr>\n",
              "    <tr>\n",
              "      <th>...</th>\n",
              "      <td>...</td>\n",
              "      <td>...</td>\n",
              "      <td>...</td>\n",
              "    </tr>\n",
              "    <tr>\n",
              "      <th>132925</th>\n",
              "      <td>&lt;p&gt;Although many sources say usually a nuclear...</td>\n",
              "      <td>Is it difficult to get a nuclear engineering j...</td>\n",
              "      <td>Engineering and technology</td>\n",
              "    </tr>\n",
              "    <tr>\n",
              "      <th>132926</th>\n",
              "      <td>&lt;p&gt;Microscopic cross section measures the prob...</td>\n",
              "      <td>Increasing beam intensity is the most effectiv...</td>\n",
              "      <td>Engineering and technology</td>\n",
              "    </tr>\n",
              "    <tr>\n",
              "      <th>132927</th>\n",
              "      <td>&lt;p&gt;I agree that there will be a resurgence of ...</td>\n",
              "      <td>NaN</td>\n",
              "      <td>Engineering and technology</td>\n",
              "    </tr>\n",
              "    <tr>\n",
              "      <th>132928</th>\n",
              "      <td>&lt;p&gt;I have noticed a lot of information on how ...</td>\n",
              "      <td>Are there applications that exploit larger or ...</td>\n",
              "      <td>Engineering and technology</td>\n",
              "    </tr>\n",
              "    <tr>\n",
              "      <th>132929</th>\n",
              "      <td>&lt;p&gt;Radioactive material does a great job at st...</td>\n",
              "      <td>Radioactive materials do a great job at steril...</td>\n",
              "      <td>Engineering and technology</td>\n",
              "    </tr>\n",
              "  </tbody>\n",
              "</table>\n",
              "<p>132930 rows × 3 columns</p>\n",
              "</div>"
            ],
            "text/plain": [
              "                                                     body  ...                       tag_1\n",
              "0       <p>According to people's memory curve, the mem...  ...                 Mathematics\n",
              "1       <p><img alt=\"\" src=\"https://storage.googleapis...  ...                 Mathematics\n",
              "2       <p>As a computer science major, I have come to...  ...                 Mathematics\n",
              "3                             This post has been removed.  ...             Human geography\n",
              "4       <p>Opportunities possible because of education...  ...             Human geography\n",
              "...                                                   ...  ...                         ...\n",
              "132925  <p>Although many sources say usually a nuclear...  ...  Engineering and technology\n",
              "132926  <p>Microscopic cross section measures the prob...  ...  Engineering and technology\n",
              "132927  <p>I agree that there will be a resurgence of ...  ...  Engineering and technology\n",
              "132928  <p>I have noticed a lot of information on how ...  ...  Engineering and technology\n",
              "132929  <p>Radioactive material does a great job at st...  ...  Engineering and technology\n",
              "\n",
              "[132930 rows x 3 columns]"
            ]
          },
          "metadata": {
            "tags": []
          },
          "execution_count": 3
        }
      ]
    },
    {
      "cell_type": "code",
      "metadata": {
        "colab": {
          "base_uri": "https://localhost:8080/",
          "height": 407
        },
        "id": "OMDILeng0P1t",
        "outputId": "1bfb50f4-2b9b-4a30-8d1c-2fc15a2498e4"
      },
      "source": [
        "df[\"content\"] = df[\"body\"] + df[\"title\"]\n",
        "cleandf = df.drop(['body','title'], axis=1)\n",
        "cleandf"
      ],
      "execution_count": 4,
      "outputs": [
        {
          "output_type": "execute_result",
          "data": {
            "text/html": [
              "<div>\n",
              "<style scoped>\n",
              "    .dataframe tbody tr th:only-of-type {\n",
              "        vertical-align: middle;\n",
              "    }\n",
              "\n",
              "    .dataframe tbody tr th {\n",
              "        vertical-align: top;\n",
              "    }\n",
              "\n",
              "    .dataframe thead th {\n",
              "        text-align: right;\n",
              "    }\n",
              "</style>\n",
              "<table border=\"1\" class=\"dataframe\">\n",
              "  <thead>\n",
              "    <tr style=\"text-align: right;\">\n",
              "      <th></th>\n",
              "      <th>tag_1</th>\n",
              "      <th>content</th>\n",
              "    </tr>\n",
              "  </thead>\n",
              "  <tbody>\n",
              "    <tr>\n",
              "      <th>0</th>\n",
              "      <td>Mathematics</td>\n",
              "      <td>&lt;p&gt;According to people's memory curve, the mem...</td>\n",
              "    </tr>\n",
              "    <tr>\n",
              "      <th>1</th>\n",
              "      <td>Mathematics</td>\n",
              "      <td>&lt;p&gt;&lt;img alt=\"\" src=\"https://storage.googleapis...</td>\n",
              "    </tr>\n",
              "    <tr>\n",
              "      <th>2</th>\n",
              "      <td>Mathematics</td>\n",
              "      <td>&lt;p&gt;As a computer science major, I have come to...</td>\n",
              "    </tr>\n",
              "    <tr>\n",
              "      <th>3</th>\n",
              "      <td>Human geography</td>\n",
              "      <td>This post has been removed.This post has been ...</td>\n",
              "    </tr>\n",
              "    <tr>\n",
              "      <th>4</th>\n",
              "      <td>Human geography</td>\n",
              "      <td>&lt;p&gt;Opportunities possible because of education...</td>\n",
              "    </tr>\n",
              "    <tr>\n",
              "      <th>...</th>\n",
              "      <td>...</td>\n",
              "      <td>...</td>\n",
              "    </tr>\n",
              "    <tr>\n",
              "      <th>132925</th>\n",
              "      <td>Engineering and technology</td>\n",
              "      <td>&lt;p&gt;Although many sources say usually a nuclear...</td>\n",
              "    </tr>\n",
              "    <tr>\n",
              "      <th>132926</th>\n",
              "      <td>Engineering and technology</td>\n",
              "      <td>&lt;p&gt;Microscopic cross section measures the prob...</td>\n",
              "    </tr>\n",
              "    <tr>\n",
              "      <th>132927</th>\n",
              "      <td>Engineering and technology</td>\n",
              "      <td>NaN</td>\n",
              "    </tr>\n",
              "    <tr>\n",
              "      <th>132928</th>\n",
              "      <td>Engineering and technology</td>\n",
              "      <td>&lt;p&gt;I have noticed a lot of information on how ...</td>\n",
              "    </tr>\n",
              "    <tr>\n",
              "      <th>132929</th>\n",
              "      <td>Engineering and technology</td>\n",
              "      <td>&lt;p&gt;Radioactive material does a great job at st...</td>\n",
              "    </tr>\n",
              "  </tbody>\n",
              "</table>\n",
              "<p>132930 rows × 2 columns</p>\n",
              "</div>"
            ],
            "text/plain": [
              "                             tag_1                                            content\n",
              "0                      Mathematics  <p>According to people's memory curve, the mem...\n",
              "1                      Mathematics  <p><img alt=\"\" src=\"https://storage.googleapis...\n",
              "2                      Mathematics  <p>As a computer science major, I have come to...\n",
              "3                  Human geography  This post has been removed.This post has been ...\n",
              "4                  Human geography  <p>Opportunities possible because of education...\n",
              "...                            ...                                                ...\n",
              "132925  Engineering and technology  <p>Although many sources say usually a nuclear...\n",
              "132926  Engineering and technology  <p>Microscopic cross section measures the prob...\n",
              "132927  Engineering and technology                                                NaN\n",
              "132928  Engineering and technology  <p>I have noticed a lot of information on how ...\n",
              "132929  Engineering and technology  <p>Radioactive material does a great job at st...\n",
              "\n",
              "[132930 rows x 2 columns]"
            ]
          },
          "metadata": {
            "tags": []
          },
          "execution_count": 4
        }
      ]
    },
    {
      "cell_type": "code",
      "metadata": {
        "colab": {
          "base_uri": "https://localhost:8080/",
          "height": 407
        },
        "id": "wr-hKrzH5Ukb",
        "outputId": "289bf0f8-3a11-421e-a3d7-29c210ab89e9"
      },
      "source": [
        "columns_titles=[\"content\",\"tag_1\"]\n",
        "df=df.reindex(columns=columns_titles)\n",
        "df"
      ],
      "execution_count": 5,
      "outputs": [
        {
          "output_type": "execute_result",
          "data": {
            "text/html": [
              "<div>\n",
              "<style scoped>\n",
              "    .dataframe tbody tr th:only-of-type {\n",
              "        vertical-align: middle;\n",
              "    }\n",
              "\n",
              "    .dataframe tbody tr th {\n",
              "        vertical-align: top;\n",
              "    }\n",
              "\n",
              "    .dataframe thead th {\n",
              "        text-align: right;\n",
              "    }\n",
              "</style>\n",
              "<table border=\"1\" class=\"dataframe\">\n",
              "  <thead>\n",
              "    <tr style=\"text-align: right;\">\n",
              "      <th></th>\n",
              "      <th>content</th>\n",
              "      <th>tag_1</th>\n",
              "    </tr>\n",
              "  </thead>\n",
              "  <tbody>\n",
              "    <tr>\n",
              "      <th>0</th>\n",
              "      <td>&lt;p&gt;According to people's memory curve, the mem...</td>\n",
              "      <td>Mathematics</td>\n",
              "    </tr>\n",
              "    <tr>\n",
              "      <th>1</th>\n",
              "      <td>&lt;p&gt;&lt;img alt=\"\" src=\"https://storage.googleapis...</td>\n",
              "      <td>Mathematics</td>\n",
              "    </tr>\n",
              "    <tr>\n",
              "      <th>2</th>\n",
              "      <td>&lt;p&gt;As a computer science major, I have come to...</td>\n",
              "      <td>Mathematics</td>\n",
              "    </tr>\n",
              "    <tr>\n",
              "      <th>3</th>\n",
              "      <td>This post has been removed.This post has been ...</td>\n",
              "      <td>Human geography</td>\n",
              "    </tr>\n",
              "    <tr>\n",
              "      <th>4</th>\n",
              "      <td>&lt;p&gt;Opportunities possible because of education...</td>\n",
              "      <td>Human geography</td>\n",
              "    </tr>\n",
              "    <tr>\n",
              "      <th>...</th>\n",
              "      <td>...</td>\n",
              "      <td>...</td>\n",
              "    </tr>\n",
              "    <tr>\n",
              "      <th>132925</th>\n",
              "      <td>&lt;p&gt;Although many sources say usually a nuclear...</td>\n",
              "      <td>Engineering and technology</td>\n",
              "    </tr>\n",
              "    <tr>\n",
              "      <th>132926</th>\n",
              "      <td>&lt;p&gt;Microscopic cross section measures the prob...</td>\n",
              "      <td>Engineering and technology</td>\n",
              "    </tr>\n",
              "    <tr>\n",
              "      <th>132927</th>\n",
              "      <td>NaN</td>\n",
              "      <td>Engineering and technology</td>\n",
              "    </tr>\n",
              "    <tr>\n",
              "      <th>132928</th>\n",
              "      <td>&lt;p&gt;I have noticed a lot of information on how ...</td>\n",
              "      <td>Engineering and technology</td>\n",
              "    </tr>\n",
              "    <tr>\n",
              "      <th>132929</th>\n",
              "      <td>&lt;p&gt;Radioactive material does a great job at st...</td>\n",
              "      <td>Engineering and technology</td>\n",
              "    </tr>\n",
              "  </tbody>\n",
              "</table>\n",
              "<p>132930 rows × 2 columns</p>\n",
              "</div>"
            ],
            "text/plain": [
              "                                                  content                       tag_1\n",
              "0       <p>According to people's memory curve, the mem...                 Mathematics\n",
              "1       <p><img alt=\"\" src=\"https://storage.googleapis...                 Mathematics\n",
              "2       <p>As a computer science major, I have come to...                 Mathematics\n",
              "3       This post has been removed.This post has been ...             Human geography\n",
              "4       <p>Opportunities possible because of education...             Human geography\n",
              "...                                                   ...                         ...\n",
              "132925  <p>Although many sources say usually a nuclear...  Engineering and technology\n",
              "132926  <p>Microscopic cross section measures the prob...  Engineering and technology\n",
              "132927                                                NaN  Engineering and technology\n",
              "132928  <p>I have noticed a lot of information on how ...  Engineering and technology\n",
              "132929  <p>Radioactive material does a great job at st...  Engineering and technology\n",
              "\n",
              "[132930 rows x 2 columns]"
            ]
          },
          "metadata": {
            "tags": []
          },
          "execution_count": 5
        }
      ]
    },
    {
      "cell_type": "code",
      "metadata": {
        "id": "WsaIV0xFzhy-"
      },
      "source": [
        "df1 = df.replace(',','', regex=True)\n",
        "\n",
        "df2 = df1.replace('\\?','', regex=True)\n",
        "\n",
        "df3 = df2.replace('\\W+', ' ', regex=True)"
      ],
      "execution_count": null,
      "outputs": []
    },
    {
      "cell_type": "code",
      "metadata": {
        "id": "YYiidCva26Ye"
      },
      "source": [
        "newerdf[\"cleantitle\"] = newdf[\"cleantitle\"].replace('[^A-Za-z0-9 ]+ ', '', regex=True)"
      ],
      "execution_count": null,
      "outputs": []
    },
    {
      "cell_type": "code",
      "metadata": {
        "id": "J0CZsDW78j2m"
      },
      "source": [
        "newerdf[\"cleantitle\"]  = list(map(lambda row: row[0], newerdf[\"cleantitle\"]))"
      ],
      "execution_count": null,
      "outputs": []
    },
    {
      "cell_type": "code",
      "metadata": {
        "colab": {
          "base_uri": "https://localhost:8080/",
          "height": 427
        },
        "id": "H2JP4RPTzrr1",
        "outputId": "bc1a9c9f-0cd3-40f1-a871-d239101b32c3"
      },
      "source": [
        "pd.set_option('display.max_colwidth', 200)\n",
        "df3"
      ],
      "execution_count": null,
      "outputs": [
        {
          "output_type": "execute_result",
          "data": {
            "text/html": [
              "<div>\n",
              "<style scoped>\n",
              "    .dataframe tbody tr th:only-of-type {\n",
              "        vertical-align: middle;\n",
              "    }\n",
              "\n",
              "    .dataframe tbody tr th {\n",
              "        vertical-align: top;\n",
              "    }\n",
              "\n",
              "    .dataframe thead th {\n",
              "        text-align: right;\n",
              "    }\n",
              "</style>\n",
              "<table border=\"1\" class=\"dataframe\">\n",
              "  <thead>\n",
              "    <tr style=\"text-align: right;\">\n",
              "      <th></th>\n",
              "      <th>content</th>\n",
              "      <th>tag_1</th>\n",
              "    </tr>\n",
              "  </thead>\n",
              "  <tbody>\n",
              "    <tr>\n",
              "      <th>0</th>\n",
              "      <td>pInJulyIcontractedthecoronavirusandmadesuretofollowalloftheguidelinesregardingitIwasterrifiedofgivingittomyfamilysoIquarantinedinmyroomandworeamaskaroundmyhouseTheonlytimeIleftmyhouseduringmyquara...</td>\n",
              "      <td>Biology</td>\n",
              "    </tr>\n",
              "    <tr>\n",
              "      <th>1</th>\n",
              "      <td>pInNorwayMuslimimmigrantsattendacompulsoryclassonwesternattitudestowardswomenTheaimoftheclassistobetterassimilatetheimmigrantsintoNorwegiancultureandtopreventviolencetowardswomenDoyouthinkthatthis...</td>\n",
              "      <td>Philosophy</td>\n",
              "    </tr>\n",
              "    <tr>\n",
              "      <th>2</th>\n",
              "      <td>pIthinkthelastphasewillbemostchallengingbecausethequalityofthenextclassesprojectsassumingitiswiththesameclientlargelydependsonthequalityofourownrecommendationsuponwrappingupourprojectsnbspppIalsot...</td>\n",
              "      <td>Business</td>\n",
              "    </tr>\n",
              "    <tr>\n",
              "      <th>3</th>\n",
              "      <td>NaN</td>\n",
              "      <td>Psychology</td>\n",
              "    </tr>\n",
              "    <tr>\n",
              "      <th>4</th>\n",
              "      <td>pOftentimesIfeelliketheissuewithinsufficientintakeofspecificnutrientssuchasfiberisthelackofeducationtothegeneralpublicabouttheimportanceofproperintakeManypeopledonotknowwhatfiberisorhowtheycanmake...</td>\n",
              "      <td>Biology</td>\n",
              "    </tr>\n",
              "    <tr>\n",
              "      <th>...</th>\n",
              "      <td>...</td>\n",
              "      <td>...</td>\n",
              "    </tr>\n",
              "    <tr>\n",
              "      <th>762</th>\n",
              "      <td>pHeyEstherppIlikeyourthoughtsonincludingaclearintroductionHoweverwhenitcomestoreallyportrayingthetopictothereaderIbelieveitisyourunderstandingandhowyouportraythattothereaderthroughthebodyofyoursum...</td>\n",
              "      <td>Languagesandliterature</td>\n",
              "    </tr>\n",
              "    <tr>\n",
              "      <th>763</th>\n",
              "      <td>pIthinkthatBlackFridayshouldbeallowedduringthispandemicbutstrictlyonlineonlyItistooriskytohavehugegroupsofpeoplebargeinandsearchthroughabunchofitemsLetalonetheretailworkerswillbeencounteringatreme...</td>\n",
              "      <td>Economics</td>\n",
              "    </tr>\n",
              "    <tr>\n",
              "      <th>764</th>\n",
              "      <td>pThemanwiththeseveredcorpuscallosumwasabletodrawtwodifferentshapesatthesametimewitheasebecausehisbraindidnothavetotransferthebrainsignalsacrossHoweversomeonewhoisambidextroushastheabilitytowritewi...</td>\n",
              "      <td>Psychology</td>\n",
              "    </tr>\n",
              "    <tr>\n",
              "      <th>765</th>\n",
              "      <td>pInordertoimproveglobalizationitisessentialthatwealterureconomicagendaasawholeandnotonlyfocusthecostofglobalizationThiseconomicagendashouldfocusoninclusionandtheindividualByincorporatingtheworking...</td>\n",
              "      <td>Business</td>\n",
              "    </tr>\n",
              "    <tr>\n",
              "      <th>766</th>\n",
              "      <td>pOneactionthatcouldhavebeentakentopreventtheemptyshelvesatthebeginningoftheCovid19pandemicwaslessstockingHavethestockpeopleonlystockaportionoftheproducteachdayThestorewouldbeabletokeepproductforal...</td>\n",
              "      <td>Economics</td>\n",
              "    </tr>\n",
              "  </tbody>\n",
              "</table>\n",
              "<p>767 rows × 2 columns</p>\n",
              "</div>"
            ],
            "text/plain": [
              "                                                                                                                                                                                                     content                   tag_1\n",
              "0    pInJulyIcontractedthecoronavirusandmadesuretofollowalloftheguidelinesregardingitIwasterrifiedofgivingittomyfamilysoIquarantinedinmyroomandworeamaskaroundmyhouseTheonlytimeIleftmyhouseduringmyquara...                 Biology\n",
              "1    pInNorwayMuslimimmigrantsattendacompulsoryclassonwesternattitudestowardswomenTheaimoftheclassistobetterassimilatetheimmigrantsintoNorwegiancultureandtopreventviolencetowardswomenDoyouthinkthatthis...              Philosophy\n",
              "2    pIthinkthelastphasewillbemostchallengingbecausethequalityofthenextclassesprojectsassumingitiswiththesameclientlargelydependsonthequalityofourownrecommendationsuponwrappingupourprojectsnbspppIalsot...                Business\n",
              "3                                                                                                                                                                                                        NaN              Psychology\n",
              "4    pOftentimesIfeelliketheissuewithinsufficientintakeofspecificnutrientssuchasfiberisthelackofeducationtothegeneralpublicabouttheimportanceofproperintakeManypeopledonotknowwhatfiberisorhowtheycanmake...                 Biology\n",
              "..                                                                                                                                                                                                       ...                     ...\n",
              "762  pHeyEstherppIlikeyourthoughtsonincludingaclearintroductionHoweverwhenitcomestoreallyportrayingthetopictothereaderIbelieveitisyourunderstandingandhowyouportraythattothereaderthroughthebodyofyoursum...  Languagesandliterature\n",
              "763  pIthinkthatBlackFridayshouldbeallowedduringthispandemicbutstrictlyonlineonlyItistooriskytohavehugegroupsofpeoplebargeinandsearchthroughabunchofitemsLetalonetheretailworkerswillbeencounteringatreme...               Economics\n",
              "764  pThemanwiththeseveredcorpuscallosumwasabletodrawtwodifferentshapesatthesametimewitheasebecausehisbraindidnothavetotransferthebrainsignalsacrossHoweversomeonewhoisambidextroushastheabilitytowritewi...              Psychology\n",
              "765  pInordertoimproveglobalizationitisessentialthatwealterureconomicagendaasawholeandnotonlyfocusthecostofglobalizationThiseconomicagendashouldfocusoninclusionandtheindividualByincorporatingtheworking...                Business\n",
              "766  pOneactionthatcouldhavebeentakentopreventtheemptyshelvesatthebeginningoftheCovid19pandemicwaslessstockingHavethestockpeopleonlystockaportionoftheproducteachdayThestorewouldbeabletokeepproductforal...               Economics\n",
              "\n",
              "[767 rows x 2 columns]"
            ]
          },
          "metadata": {
            "tags": []
          },
          "execution_count": 21
        }
      ]
    },
    {
      "cell_type": "code",
      "metadata": {
        "id": "TTeDbWA-J451"
      },
      "source": [
        "#newdf.to_csv('50df.csv')\n",
        "newerdf.to_csv(\"50(list)db.csv\", header=None, index=False)"
      ],
      "execution_count": null,
      "outputs": []
    },
    {
      "cell_type": "code",
      "metadata": {
        "id": "8odFrwFfKyBm"
      },
      "source": [
        "def cleantext(input):\n",
        "    if not pd.isna(input):\n",
        "        # replaces paragraph tags with spaces\n",
        "        newString = re.sub(r\"<\\/?p>\", \" \", input)\n",
        "\n",
        "        # replaces linebreak tags with newlines\n",
        "        newString = re.sub(r\"<\\/?br>\", \"\\n\", newString)\n",
        "\n",
        "        # replaces all other tags (not even leaving a space)\n",
        "        newString = re.sub(\"<\\/?[a-z]+>\", \"\", newString)\n",
        "\n",
        "        return newString\n",
        "    return \"\""
      ],
      "execution_count": 6,
      "outputs": []
    },
    {
      "cell_type": "code",
      "metadata": {
        "colab": {
          "base_uri": "https://localhost:8080/",
          "height": 200
        },
        "id": "RMYOkj8dP-JB",
        "outputId": "c0f2af5c-1bec-42f8-b842-efb48017dcb7"
      },
      "source": [
        "df1 = newdf\n",
        "df1[\"body\"] = new_df[\"cleanbody\"].apply(cleantext)\n",
        "df1(colwidth = 500)"
      ],
      "execution_count": 7,
      "outputs": [
        {
          "output_type": "error",
          "ename": "NameError",
          "evalue": "ignored",
          "traceback": [
            "\u001b[0;31m---------------------------------------------------------------------------\u001b[0m",
            "\u001b[0;31mNameError\u001b[0m                                 Traceback (most recent call last)",
            "\u001b[0;32m<ipython-input-7-fa4f5e66d610>\u001b[0m in \u001b[0;36m<module>\u001b[0;34m()\u001b[0m\n\u001b[0;32m----> 1\u001b[0;31m \u001b[0mdf1\u001b[0m \u001b[0;34m=\u001b[0m \u001b[0mnewdf\u001b[0m\u001b[0;34m\u001b[0m\u001b[0;34m\u001b[0m\u001b[0m\n\u001b[0m\u001b[1;32m      2\u001b[0m \u001b[0mdf1\u001b[0m\u001b[0;34m[\u001b[0m\u001b[0;34m\"body\"\u001b[0m\u001b[0;34m]\u001b[0m \u001b[0;34m=\u001b[0m \u001b[0mnew_df\u001b[0m\u001b[0;34m[\u001b[0m\u001b[0;34m\"cleanbody\"\u001b[0m\u001b[0;34m]\u001b[0m\u001b[0;34m.\u001b[0m\u001b[0mapply\u001b[0m\u001b[0;34m(\u001b[0m\u001b[0mcleantext\u001b[0m\u001b[0;34m)\u001b[0m\u001b[0;34m\u001b[0m\u001b[0;34m\u001b[0m\u001b[0m\n\u001b[1;32m      3\u001b[0m \u001b[0mdf1\u001b[0m\u001b[0;34m(\u001b[0m\u001b[0mcolwidth\u001b[0m \u001b[0;34m=\u001b[0m \u001b[0;36m500\u001b[0m\u001b[0;34m)\u001b[0m\u001b[0;34m\u001b[0m\u001b[0;34m\u001b[0m\u001b[0m\n",
            "\u001b[0;31mNameError\u001b[0m: name 'newdf' is not defined"
          ]
        }
      ]
    },
    {
      "cell_type": "code",
      "metadata": {
        "id": "lxSXLyQZQEsk"
      },
      "source": [
        "import re\n",
        "import nltk\n",
        "import csv \n",
        "\n",
        "from bs4 import BeautifulSoup\n",
        "from bs4.element import Comment\n",
        "\n",
        "def _tag_visible(element):\n",
        "    \"\"\"given a BeautifulSoup4 element, return True if it's visible, False\n",
        "    otherwise\n",
        "    \"\"\"\n",
        "\n",
        "    if element.parent.name in ['style', 'script', 'head', 'title', 'meta']:\n",
        "        return False\n",
        "    if isinstance(element, Comment):\n",
        "        return False\n",
        "    return True\n",
        "\n",
        "\n",
        "def _yield_paragraphs(input_text):\n",
        "    \"\"\"Iterator that yields the text of the paragraphs in the input_text\n",
        "    variable\n",
        "    \"\"\"\n",
        "    if pd.isna(input_text):\n",
        "        return \"\"\n",
        "    soup = BeautifulSoup(input_text, \"lxml\")\n",
        "\n",
        "    if len(list(soup.children)) == 0:\n",
        "        return \"\"\n",
        "\n",
        "    # Before anything else, just replace <br> with a newline\n",
        "    for breaks in soup.find_all(\"br\"):\n",
        "        breaks.replace_with(\"\\n\")\n",
        "\n",
        "    # Elements that can contain sub-elements are paragraphs and lists\n",
        "    # for each of these, extract the text.  In the case of lists, add\n",
        "    # spaces between elements\n",
        "    for container in soup.html.body.find_all(\n",
        "            [\"p\", \"ul\", \"ol\"], recursive=False):\n",
        "        result = \"\"\n",
        "\n",
        "        if container.name == \"p\":\n",
        "            result = container.text\n",
        "        else:\n",
        "            container_subtags = container.findAll(text=True)\n",
        "            container_visible_texts = filter(_tag_visible,\n",
        "                                             container_subtags)\n",
        "            result = \" \".join(container_visible_texts)\n",
        "\n",
        "        # Do not yield strings that only contain newlines and spaces\n",
        "        if len(result.strip()) > 0:\n",
        "            yield result\n",
        "\n",
        "\n",
        "def strip_html(body):\n",
        "    \"\"\"Given an HTML string, return only the visible texts.\n",
        "    Has the following behaviors:\n",
        "       - Replaces <p> tags with spaces\n",
        "       - Replaces <br> tags with newlines\n",
        "       - Removes all other tags (not even leaving a space)\n",
        "    \"\"\"\n",
        "\n",
        "    all_texts = []\n",
        "    for para in _yield_paragraphs(body):\n",
        "        all_texts.append(para)\n",
        "    return u\" \".join(all_texts)\n",
        "\n",
        "\n",
        "def cleantext(input):\n",
        "    if not pd.isna(input):\n",
        "        # replaces paragraph tags with spaces\n",
        "        newString = re.sub(r\"<\\/?p>\", \" \", input)\n",
        "\n",
        "        # replaces linebreak tags with newlines\n",
        "        newString = re.sub(r\"<\\/?br>\", \"\\n\", newString)\n",
        "\n",
        "        # replaces all other tags (not even leaving a space)\n",
        "        newString = re.sub(\"<\\/?[a-z]+>\", \"\", newString)\n",
        "\n",
        "        return newString\n",
        "    return \"\""
      ],
      "execution_count": 8,
      "outputs": []
    },
    {
      "cell_type": "code",
      "metadata": {
        "colab": {
          "base_uri": "https://localhost:8080/",
          "height": 407
        },
        "id": "pwKW3PVp7HKf",
        "outputId": "4f813bd2-f499-4689-c964-d208c87b032e"
      },
      "source": [
        "df[\"content01\"] = df[\"content\"].apply(strip_html)\n",
        "cleandf = df.drop(['content'], axis=1)\n",
        "\n",
        "columns_titles=[\"content01\",\"tag_1\"]\n",
        "cleandf=cleandf.reindex(columns=columns_titles)\n",
        "cleandf\n"
      ],
      "execution_count": 9,
      "outputs": [
        {
          "output_type": "execute_result",
          "data": {
            "text/html": [
              "<div>\n",
              "<style scoped>\n",
              "    .dataframe tbody tr th:only-of-type {\n",
              "        vertical-align: middle;\n",
              "    }\n",
              "\n",
              "    .dataframe tbody tr th {\n",
              "        vertical-align: top;\n",
              "    }\n",
              "\n",
              "    .dataframe thead th {\n",
              "        text-align: right;\n",
              "    }\n",
              "</style>\n",
              "<table border=\"1\" class=\"dataframe\">\n",
              "  <thead>\n",
              "    <tr style=\"text-align: right;\">\n",
              "      <th></th>\n",
              "      <th>content01</th>\n",
              "      <th>tag_1</th>\n",
              "    </tr>\n",
              "  </thead>\n",
              "  <tbody>\n",
              "    <tr>\n",
              "      <th>0</th>\n",
              "      <td>According to people's memory curve, the memory...</td>\n",
              "      <td>Mathematics</td>\n",
              "    </tr>\n",
              "    <tr>\n",
              "      <th>1</th>\n",
              "      <td>It's not known news that we need math to be ab...</td>\n",
              "      <td>Mathematics</td>\n",
              "    </tr>\n",
              "    <tr>\n",
              "      <th>2</th>\n",
              "      <td>As a computer science major, I have come to un...</td>\n",
              "      <td>Mathematics</td>\n",
              "    </tr>\n",
              "    <tr>\n",
              "      <th>3</th>\n",
              "      <td>This post has been removed.This post has been ...</td>\n",
              "      <td>Human geography</td>\n",
              "    </tr>\n",
              "    <tr>\n",
              "      <th>4</th>\n",
              "      <td>Opportunities possible because of education, d...</td>\n",
              "      <td>Human geography</td>\n",
              "    </tr>\n",
              "    <tr>\n",
              "      <th>...</th>\n",
              "      <td>...</td>\n",
              "      <td>...</td>\n",
              "    </tr>\n",
              "    <tr>\n",
              "      <th>132925</th>\n",
              "      <td>Although many sources say usually a nuclear en...</td>\n",
              "      <td>Engineering and technology</td>\n",
              "    </tr>\n",
              "    <tr>\n",
              "      <th>132926</th>\n",
              "      <td>Microscopic cross section measures the probabi...</td>\n",
              "      <td>Engineering and technology</td>\n",
              "    </tr>\n",
              "    <tr>\n",
              "      <th>132927</th>\n",
              "      <td></td>\n",
              "      <td>Engineering and technology</td>\n",
              "    </tr>\n",
              "    <tr>\n",
              "      <th>132928</th>\n",
              "      <td>I have noticed a lot of information on how to ...</td>\n",
              "      <td>Engineering and technology</td>\n",
              "    </tr>\n",
              "    <tr>\n",
              "      <th>132929</th>\n",
              "      <td>Radioactive material does a great job at steri...</td>\n",
              "      <td>Engineering and technology</td>\n",
              "    </tr>\n",
              "  </tbody>\n",
              "</table>\n",
              "<p>132930 rows × 2 columns</p>\n",
              "</div>"
            ],
            "text/plain": [
              "                                                content01                       tag_1\n",
              "0       According to people's memory curve, the memory...                 Mathematics\n",
              "1       It's not known news that we need math to be ab...                 Mathematics\n",
              "2       As a computer science major, I have come to un...                 Mathematics\n",
              "3       This post has been removed.This post has been ...             Human geography\n",
              "4       Opportunities possible because of education, d...             Human geography\n",
              "...                                                   ...                         ...\n",
              "132925  Although many sources say usually a nuclear en...  Engineering and technology\n",
              "132926  Microscopic cross section measures the probabi...  Engineering and technology\n",
              "132927                                                     Engineering and technology\n",
              "132928  I have noticed a lot of information on how to ...  Engineering and technology\n",
              "132929  Radioactive material does a great job at steri...  Engineering and technology\n",
              "\n",
              "[132930 rows x 2 columns]"
            ]
          },
          "metadata": {
            "tags": []
          },
          "execution_count": 9
        }
      ]
    },
    {
      "cell_type": "code",
      "metadata": {
        "colab": {
          "base_uri": "https://localhost:8080/"
        },
        "id": "akrpxzZW88JJ",
        "outputId": "09e4227b-3032-4766-f32c-a4cf504afb86"
      },
      "source": [
        "df1 = cleandf[cleandf.content01 != '']\n",
        "print (df1)"
      ],
      "execution_count": 11,
      "outputs": [
        {
          "output_type": "stream",
          "text": [
            "                                                content01                       tag_1\n",
            "0       According to people's memory curve, the memory...                 Mathematics\n",
            "1       It's not known news that we need math to be ab...                 Mathematics\n",
            "2       As a computer science major, I have come to un...                 Mathematics\n",
            "3       This post has been removed.This post has been ...             Human geography\n",
            "4       Opportunities possible because of education, d...             Human geography\n",
            "...                                                   ...                         ...\n",
            "132924  The nuclear field can be a complex and intimid...  Engineering and technology\n",
            "132925  Although many sources say usually a nuclear en...  Engineering and technology\n",
            "132926  Microscopic cross section measures the probabi...  Engineering and technology\n",
            "132928  I have noticed a lot of information on how to ...  Engineering and technology\n",
            "132929  Radioactive material does a great job at steri...  Engineering and technology\n",
            "\n",
            "[113484 rows x 2 columns]\n"
          ],
          "name": "stdout"
        }
      ]
    },
    {
      "cell_type": "code",
      "metadata": {
        "id": "GNf5dZiX7gyB"
      },
      "source": [
        "def cleantext(input):\n",
        "    if not pd.isna(input):\n",
        "        # replaces paragraph tags with spaces\n",
        "        newString = re.sub(r\"<\\/?p>\", \" \", input)\n",
        "\n",
        "        # replaces linebreak tags with newlines\n",
        "        newString = re.sub(r\"<\\/?br>\", \"\\n\", newString)\n",
        "\n",
        "        # replaces all other tags (not even leaving a space)\n",
        "        newString = re.sub(\"<\\/?[a-z]+>\", \"\", newString)\n",
        "\n",
        "        return newString\n",
        "    return \"\""
      ],
      "execution_count": null,
      "outputs": []
    },
    {
      "cell_type": "code",
      "metadata": {
        "id": "mv6Rqdmq7l7P"
      },
      "source": [
        "cleandf.to_csv(\"113db.csv\", header=None, index=False)"
      ],
      "execution_count": 12,
      "outputs": []
    },
    {
      "cell_type": "code",
      "metadata": {
        "id": "YtARrh6V9bni"
      },
      "source": [
        ""
      ],
      "execution_count": null,
      "outputs": []
    }
  ]
}