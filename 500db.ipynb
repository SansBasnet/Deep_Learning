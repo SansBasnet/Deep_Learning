{
  "nbformat": 4,
  "nbformat_minor": 0,
  "metadata": {
    "colab": {
      "name": "500db.ipynb",
      "provenance": [],
      "include_colab_link": true
    },
    "kernelspec": {
      "name": "python3",
      "display_name": "Python 3"
    }
  },
  "cells": [
    {
      "cell_type": "markdown",
      "metadata": {
        "id": "view-in-github",
        "colab_type": "text"
      },
      "source": [
        "<a href=\"https://colab.research.google.com/github/SansBasnet/Deep_Learning/blob/master/500db.ipynb\" target=\"_parent\"><img src=\"https://colab.research.google.com/assets/colab-badge.svg\" alt=\"Open In Colab\"/></a>"
      ]
    },
    {
      "cell_type": "code",
      "metadata": {
        "colab": {
          "base_uri": "https://localhost:8080/"
        },
        "id": "k9_pYW7ZJczq",
        "outputId": "626711cc-c705-4146-9f61-068379ee3c10"
      },
      "source": [
        "import os\n",
        "import pandas as pd\n",
        "from google.colab import drive\n",
        "drive.mount('/content/drive')"
      ],
      "execution_count": 1,
      "outputs": [
        {
          "output_type": "stream",
          "text": [
            "Mounted at /content/drive\n"
          ],
          "name": "stdout"
        }
      ]
    },
    {
      "cell_type": "code",
      "metadata": {
        "colab": {
          "base_uri": "https://localhost:8080/"
        },
        "id": "HZoOt51TJhzO",
        "outputId": "5f2c1e78-b7f4-45a9-ecd4-ff2b76c7870f"
      },
      "source": [
        "%ls drive/'My Drive/test_db/'\n",
        "\n",
        "os.chdir('/content/drive/My Drive/test_db/')"
      ],
      "execution_count": 2,
      "outputs": [
        {
          "output_type": "stream",
          "text": [
            " 113db.csv   132k.csv    3col700.csv   50db.csv  '50(list)db.csv'\n",
            " 120.csv     1m_DB.csv   500db.csv     50df.csv   761db.csv\n"
          ],
          "name": "stdout"
        }
      ]
    },
    {
      "cell_type": "code",
      "metadata": {
        "id": "S1i3S3e6JuM-"
      },
      "source": [
        "df = pd.read_csv(\"1m_DB.csv\")"
      ],
      "execution_count": 3,
      "outputs": []
    },
    {
      "cell_type": "code",
      "metadata": {
        "colab": {
          "base_uri": "https://localhost:8080/",
          "height": 407
        },
        "id": "OMDILeng0P1t",
        "outputId": "0a3ea3da-500c-4d9d-dd7b-ea8294248a85"
      },
      "source": [
        "df[\"content\"] = df[\"body\"] + df[\"title\"]\n",
        "cleandf = df.drop(['body','title'], axis=1)\n",
        "cleandf"
      ],
      "execution_count": 4,
      "outputs": [
        {
          "output_type": "execute_result",
          "data": {
            "text/html": [
              "<div>\n",
              "<style scoped>\n",
              "    .dataframe tbody tr th:only-of-type {\n",
              "        vertical-align: middle;\n",
              "    }\n",
              "\n",
              "    .dataframe tbody tr th {\n",
              "        vertical-align: top;\n",
              "    }\n",
              "\n",
              "    .dataframe thead th {\n",
              "        text-align: right;\n",
              "    }\n",
              "</style>\n",
              "<table border=\"1\" class=\"dataframe\">\n",
              "  <thead>\n",
              "    <tr style=\"text-align: right;\">\n",
              "      <th></th>\n",
              "      <th>tag_1</th>\n",
              "      <th>content</th>\n",
              "    </tr>\n",
              "  </thead>\n",
              "  <tbody>\n",
              "    <tr>\n",
              "      <th>0</th>\n",
              "      <td>Business</td>\n",
              "      <td>NaN</td>\n",
              "    </tr>\n",
              "    <tr>\n",
              "      <th>1</th>\n",
              "      <td>Economics</td>\n",
              "      <td>&lt;p&gt;In some states you can get your normal unem...</td>\n",
              "    </tr>\n",
              "    <tr>\n",
              "      <th>2</th>\n",
              "      <td>Earth sciences</td>\n",
              "      <td>&lt;p&gt;It is not a secret the the U.S. agricultura...</td>\n",
              "    </tr>\n",
              "    <tr>\n",
              "      <th>3</th>\n",
              "      <td>Earth sciences</td>\n",
              "      <td>&lt;p&gt;Desalinization may be the future of water s...</td>\n",
              "    </tr>\n",
              "    <tr>\n",
              "      <th>4</th>\n",
              "      <td>Economics</td>\n",
              "      <td>&lt;p&gt;I don't think middle class disappear in the...</td>\n",
              "    </tr>\n",
              "    <tr>\n",
              "      <th>...</th>\n",
              "      <td>...</td>\n",
              "      <td>...</td>\n",
              "    </tr>\n",
              "    <tr>\n",
              "      <th>1492006</th>\n",
              "      <td>Biology</td>\n",
              "      <td>&lt;p&gt;The cancer cells multiply if left untreated...</td>\n",
              "    </tr>\n",
              "    <tr>\n",
              "      <th>1492007</th>\n",
              "      <td>Biology</td>\n",
              "      <td>&lt;p&gt;In the article below, it mentions how some ...</td>\n",
              "    </tr>\n",
              "    <tr>\n",
              "      <th>1492008</th>\n",
              "      <td>Arts</td>\n",
              "      <td>&lt;p&gt;The Westward expansion of the United States...</td>\n",
              "    </tr>\n",
              "    <tr>\n",
              "      <th>1492009</th>\n",
              "      <td>Biology</td>\n",
              "      <td>&lt;p&gt;Now more than ever, people have access to i...</td>\n",
              "    </tr>\n",
              "    <tr>\n",
              "      <th>1492010</th>\n",
              "      <td>Biology</td>\n",
              "      <td>&lt;p&gt;Although, animal protein is one of the best...</td>\n",
              "    </tr>\n",
              "  </tbody>\n",
              "</table>\n",
              "<p>1492011 rows × 2 columns</p>\n",
              "</div>"
            ],
            "text/plain": [
              "                  tag_1                                            content\n",
              "0              Business                                                NaN\n",
              "1             Economics  <p>In some states you can get your normal unem...\n",
              "2        Earth sciences  <p>It is not a secret the the U.S. agricultura...\n",
              "3        Earth sciences  <p>Desalinization may be the future of water s...\n",
              "4             Economics  <p>I don't think middle class disappear in the...\n",
              "...                 ...                                                ...\n",
              "1492006         Biology  <p>The cancer cells multiply if left untreated...\n",
              "1492007         Biology  <p>In the article below, it mentions how some ...\n",
              "1492008            Arts  <p>The Westward expansion of the United States...\n",
              "1492009         Biology  <p>Now more than ever, people have access to i...\n",
              "1492010         Biology  <p>Although, animal protein is one of the best...\n",
              "\n",
              "[1492011 rows x 2 columns]"
            ]
          },
          "metadata": {
            "tags": []
          },
          "execution_count": 4
        }
      ]
    },
    {
      "cell_type": "code",
      "metadata": {
        "colab": {
          "base_uri": "https://localhost:8080/",
          "height": 407
        },
        "id": "wr-hKrzH5Ukb",
        "outputId": "e987ae94-3f5f-4006-f905-459066dd23ad"
      },
      "source": [
        "columns_titles=[\"content\",\"tag_1\"]\n",
        "df=df.reindex(columns=columns_titles)\n",
        "df"
      ],
      "execution_count": 5,
      "outputs": [
        {
          "output_type": "execute_result",
          "data": {
            "text/html": [
              "<div>\n",
              "<style scoped>\n",
              "    .dataframe tbody tr th:only-of-type {\n",
              "        vertical-align: middle;\n",
              "    }\n",
              "\n",
              "    .dataframe tbody tr th {\n",
              "        vertical-align: top;\n",
              "    }\n",
              "\n",
              "    .dataframe thead th {\n",
              "        text-align: right;\n",
              "    }\n",
              "</style>\n",
              "<table border=\"1\" class=\"dataframe\">\n",
              "  <thead>\n",
              "    <tr style=\"text-align: right;\">\n",
              "      <th></th>\n",
              "      <th>content</th>\n",
              "      <th>tag_1</th>\n",
              "    </tr>\n",
              "  </thead>\n",
              "  <tbody>\n",
              "    <tr>\n",
              "      <th>0</th>\n",
              "      <td>NaN</td>\n",
              "      <td>Business</td>\n",
              "    </tr>\n",
              "    <tr>\n",
              "      <th>1</th>\n",
              "      <td>&lt;p&gt;In some states you can get your normal unem...</td>\n",
              "      <td>Economics</td>\n",
              "    </tr>\n",
              "    <tr>\n",
              "      <th>2</th>\n",
              "      <td>&lt;p&gt;It is not a secret the the U.S. agricultura...</td>\n",
              "      <td>Earth sciences</td>\n",
              "    </tr>\n",
              "    <tr>\n",
              "      <th>3</th>\n",
              "      <td>&lt;p&gt;Desalinization may be the future of water s...</td>\n",
              "      <td>Earth sciences</td>\n",
              "    </tr>\n",
              "    <tr>\n",
              "      <th>4</th>\n",
              "      <td>&lt;p&gt;I don't think middle class disappear in the...</td>\n",
              "      <td>Economics</td>\n",
              "    </tr>\n",
              "    <tr>\n",
              "      <th>...</th>\n",
              "      <td>...</td>\n",
              "      <td>...</td>\n",
              "    </tr>\n",
              "    <tr>\n",
              "      <th>1492006</th>\n",
              "      <td>&lt;p&gt;The cancer cells multiply if left untreated...</td>\n",
              "      <td>Biology</td>\n",
              "    </tr>\n",
              "    <tr>\n",
              "      <th>1492007</th>\n",
              "      <td>&lt;p&gt;In the article below, it mentions how some ...</td>\n",
              "      <td>Biology</td>\n",
              "    </tr>\n",
              "    <tr>\n",
              "      <th>1492008</th>\n",
              "      <td>&lt;p&gt;The Westward expansion of the United States...</td>\n",
              "      <td>Arts</td>\n",
              "    </tr>\n",
              "    <tr>\n",
              "      <th>1492009</th>\n",
              "      <td>&lt;p&gt;Now more than ever, people have access to i...</td>\n",
              "      <td>Biology</td>\n",
              "    </tr>\n",
              "    <tr>\n",
              "      <th>1492010</th>\n",
              "      <td>&lt;p&gt;Although, animal protein is one of the best...</td>\n",
              "      <td>Biology</td>\n",
              "    </tr>\n",
              "  </tbody>\n",
              "</table>\n",
              "<p>1492011 rows × 2 columns</p>\n",
              "</div>"
            ],
            "text/plain": [
              "                                                   content           tag_1\n",
              "0                                                      NaN        Business\n",
              "1        <p>In some states you can get your normal unem...       Economics\n",
              "2        <p>It is not a secret the the U.S. agricultura...  Earth sciences\n",
              "3        <p>Desalinization may be the future of water s...  Earth sciences\n",
              "4        <p>I don't think middle class disappear in the...       Economics\n",
              "...                                                    ...             ...\n",
              "1492006  <p>The cancer cells multiply if left untreated...         Biology\n",
              "1492007  <p>In the article below, it mentions how some ...         Biology\n",
              "1492008  <p>The Westward expansion of the United States...            Arts\n",
              "1492009  <p>Now more than ever, people have access to i...         Biology\n",
              "1492010  <p>Although, animal protein is one of the best...         Biology\n",
              "\n",
              "[1492011 rows x 2 columns]"
            ]
          },
          "metadata": {
            "tags": []
          },
          "execution_count": 5
        }
      ]
    },
    {
      "cell_type": "code",
      "metadata": {
        "id": "WsaIV0xFzhy-"
      },
      "source": [
        "df1 = df.replace(',','', regex=True)\n",
        "\n",
        "df2 = df1.replace('\\?','', regex=True)\n",
        "\n",
        "df3 = df2.replace('\\W+', ' ', regex=True)"
      ],
      "execution_count": null,
      "outputs": []
    },
    {
      "cell_type": "code",
      "metadata": {
        "id": "YYiidCva26Ye"
      },
      "source": [
        "newerdf[\"cleantitle\"] = newdf[\"cleantitle\"].replace('[^A-Za-z0-9 ]+ ', '', regex=True)"
      ],
      "execution_count": null,
      "outputs": []
    },
    {
      "cell_type": "code",
      "metadata": {
        "id": "J0CZsDW78j2m"
      },
      "source": [
        "newerdf[\"cleantitle\"]  = list(map(lambda row: row[0], newerdf[\"cleantitle\"]))"
      ],
      "execution_count": null,
      "outputs": []
    },
    {
      "cell_type": "code",
      "metadata": {
        "colab": {
          "base_uri": "https://localhost:8080/",
          "height": 427
        },
        "id": "H2JP4RPTzrr1",
        "outputId": "bc1a9c9f-0cd3-40f1-a871-d239101b32c3"
      },
      "source": [
        "pd.set_option('display.max_colwidth', 200)\n",
        "df3"
      ],
      "execution_count": null,
      "outputs": [
        {
          "output_type": "execute_result",
          "data": {
            "text/html": [
              "<div>\n",
              "<style scoped>\n",
              "    .dataframe tbody tr th:only-of-type {\n",
              "        vertical-align: middle;\n",
              "    }\n",
              "\n",
              "    .dataframe tbody tr th {\n",
              "        vertical-align: top;\n",
              "    }\n",
              "\n",
              "    .dataframe thead th {\n",
              "        text-align: right;\n",
              "    }\n",
              "</style>\n",
              "<table border=\"1\" class=\"dataframe\">\n",
              "  <thead>\n",
              "    <tr style=\"text-align: right;\">\n",
              "      <th></th>\n",
              "      <th>content</th>\n",
              "      <th>tag_1</th>\n",
              "    </tr>\n",
              "  </thead>\n",
              "  <tbody>\n",
              "    <tr>\n",
              "      <th>0</th>\n",
              "      <td>pInJulyIcontractedthecoronavirusandmadesuretofollowalloftheguidelinesregardingitIwasterrifiedofgivingittomyfamilysoIquarantinedinmyroomandworeamaskaroundmyhouseTheonlytimeIleftmyhouseduringmyquara...</td>\n",
              "      <td>Biology</td>\n",
              "    </tr>\n",
              "    <tr>\n",
              "      <th>1</th>\n",
              "      <td>pInNorwayMuslimimmigrantsattendacompulsoryclassonwesternattitudestowardswomenTheaimoftheclassistobetterassimilatetheimmigrantsintoNorwegiancultureandtopreventviolencetowardswomenDoyouthinkthatthis...</td>\n",
              "      <td>Philosophy</td>\n",
              "    </tr>\n",
              "    <tr>\n",
              "      <th>2</th>\n",
              "      <td>pIthinkthelastphasewillbemostchallengingbecausethequalityofthenextclassesprojectsassumingitiswiththesameclientlargelydependsonthequalityofourownrecommendationsuponwrappingupourprojectsnbspppIalsot...</td>\n",
              "      <td>Business</td>\n",
              "    </tr>\n",
              "    <tr>\n",
              "      <th>3</th>\n",
              "      <td>NaN</td>\n",
              "      <td>Psychology</td>\n",
              "    </tr>\n",
              "    <tr>\n",
              "      <th>4</th>\n",
              "      <td>pOftentimesIfeelliketheissuewithinsufficientintakeofspecificnutrientssuchasfiberisthelackofeducationtothegeneralpublicabouttheimportanceofproperintakeManypeopledonotknowwhatfiberisorhowtheycanmake...</td>\n",
              "      <td>Biology</td>\n",
              "    </tr>\n",
              "    <tr>\n",
              "      <th>...</th>\n",
              "      <td>...</td>\n",
              "      <td>...</td>\n",
              "    </tr>\n",
              "    <tr>\n",
              "      <th>762</th>\n",
              "      <td>pHeyEstherppIlikeyourthoughtsonincludingaclearintroductionHoweverwhenitcomestoreallyportrayingthetopictothereaderIbelieveitisyourunderstandingandhowyouportraythattothereaderthroughthebodyofyoursum...</td>\n",
              "      <td>Languagesandliterature</td>\n",
              "    </tr>\n",
              "    <tr>\n",
              "      <th>763</th>\n",
              "      <td>pIthinkthatBlackFridayshouldbeallowedduringthispandemicbutstrictlyonlineonlyItistooriskytohavehugegroupsofpeoplebargeinandsearchthroughabunchofitemsLetalonetheretailworkerswillbeencounteringatreme...</td>\n",
              "      <td>Economics</td>\n",
              "    </tr>\n",
              "    <tr>\n",
              "      <th>764</th>\n",
              "      <td>pThemanwiththeseveredcorpuscallosumwasabletodrawtwodifferentshapesatthesametimewitheasebecausehisbraindidnothavetotransferthebrainsignalsacrossHoweversomeonewhoisambidextroushastheabilitytowritewi...</td>\n",
              "      <td>Psychology</td>\n",
              "    </tr>\n",
              "    <tr>\n",
              "      <th>765</th>\n",
              "      <td>pInordertoimproveglobalizationitisessentialthatwealterureconomicagendaasawholeandnotonlyfocusthecostofglobalizationThiseconomicagendashouldfocusoninclusionandtheindividualByincorporatingtheworking...</td>\n",
              "      <td>Business</td>\n",
              "    </tr>\n",
              "    <tr>\n",
              "      <th>766</th>\n",
              "      <td>pOneactionthatcouldhavebeentakentopreventtheemptyshelvesatthebeginningoftheCovid19pandemicwaslessstockingHavethestockpeopleonlystockaportionoftheproducteachdayThestorewouldbeabletokeepproductforal...</td>\n",
              "      <td>Economics</td>\n",
              "    </tr>\n",
              "  </tbody>\n",
              "</table>\n",
              "<p>767 rows × 2 columns</p>\n",
              "</div>"
            ],
            "text/plain": [
              "                                                                                                                                                                                                     content                   tag_1\n",
              "0    pInJulyIcontractedthecoronavirusandmadesuretofollowalloftheguidelinesregardingitIwasterrifiedofgivingittomyfamilysoIquarantinedinmyroomandworeamaskaroundmyhouseTheonlytimeIleftmyhouseduringmyquara...                 Biology\n",
              "1    pInNorwayMuslimimmigrantsattendacompulsoryclassonwesternattitudestowardswomenTheaimoftheclassistobetterassimilatetheimmigrantsintoNorwegiancultureandtopreventviolencetowardswomenDoyouthinkthatthis...              Philosophy\n",
              "2    pIthinkthelastphasewillbemostchallengingbecausethequalityofthenextclassesprojectsassumingitiswiththesameclientlargelydependsonthequalityofourownrecommendationsuponwrappingupourprojectsnbspppIalsot...                Business\n",
              "3                                                                                                                                                                                                        NaN              Psychology\n",
              "4    pOftentimesIfeelliketheissuewithinsufficientintakeofspecificnutrientssuchasfiberisthelackofeducationtothegeneralpublicabouttheimportanceofproperintakeManypeopledonotknowwhatfiberisorhowtheycanmake...                 Biology\n",
              "..                                                                                                                                                                                                       ...                     ...\n",
              "762  pHeyEstherppIlikeyourthoughtsonincludingaclearintroductionHoweverwhenitcomestoreallyportrayingthetopictothereaderIbelieveitisyourunderstandingandhowyouportraythattothereaderthroughthebodyofyoursum...  Languagesandliterature\n",
              "763  pIthinkthatBlackFridayshouldbeallowedduringthispandemicbutstrictlyonlineonlyItistooriskytohavehugegroupsofpeoplebargeinandsearchthroughabunchofitemsLetalonetheretailworkerswillbeencounteringatreme...               Economics\n",
              "764  pThemanwiththeseveredcorpuscallosumwasabletodrawtwodifferentshapesatthesametimewitheasebecausehisbraindidnothavetotransferthebrainsignalsacrossHoweversomeonewhoisambidextroushastheabilitytowritewi...              Psychology\n",
              "765  pInordertoimproveglobalizationitisessentialthatwealterureconomicagendaasawholeandnotonlyfocusthecostofglobalizationThiseconomicagendashouldfocusoninclusionandtheindividualByincorporatingtheworking...                Business\n",
              "766  pOneactionthatcouldhavebeentakentopreventtheemptyshelvesatthebeginningoftheCovid19pandemicwaslessstockingHavethestockpeopleonlystockaportionoftheproducteachdayThestorewouldbeabletokeepproductforal...               Economics\n",
              "\n",
              "[767 rows x 2 columns]"
            ]
          },
          "metadata": {
            "tags": []
          },
          "execution_count": 21
        }
      ]
    },
    {
      "cell_type": "code",
      "metadata": {
        "id": "TTeDbWA-J451"
      },
      "source": [
        "#newdf.to_csv('50df.csv')\n",
        "newerdf.to_csv(\"50(list)db.csv\", header=None, index=False)"
      ],
      "execution_count": null,
      "outputs": []
    },
    {
      "cell_type": "code",
      "metadata": {
        "id": "8odFrwFfKyBm"
      },
      "source": [
        "def cleantext(input):\n",
        "    if not pd.isna(input):\n",
        "        # replaces paragraph tags with spaces\n",
        "        newString = re.sub(r\"<\\/?p>\", \" \", input)\n",
        "\n",
        "        # replaces linebreak tags with newlines\n",
        "        newString = re.sub(r\"<\\/?br>\", \"\\n\", newString)\n",
        "\n",
        "        # replaces all other tags (not even leaving a space)\n",
        "        newString = re.sub(\"<\\/?[a-z]+>\", \"\", newString)\n",
        "\n",
        "        return newString\n",
        "    return \"\""
      ],
      "execution_count": 6,
      "outputs": []
    },
    {
      "cell_type": "code",
      "metadata": {
        "colab": {
          "base_uri": "https://localhost:8080/",
          "height": 200
        },
        "id": "RMYOkj8dP-JB",
        "outputId": "c0f2af5c-1bec-42f8-b842-efb48017dcb7"
      },
      "source": [
        "df1 = newdf\n",
        "df1[\"body\"] = new_df[\"cleanbody\"].apply(cleantext)\n",
        "df1(colwidth = 500)"
      ],
      "execution_count": null,
      "outputs": [
        {
          "output_type": "error",
          "ename": "NameError",
          "evalue": "ignored",
          "traceback": [
            "\u001b[0;31m---------------------------------------------------------------------------\u001b[0m",
            "\u001b[0;31mNameError\u001b[0m                                 Traceback (most recent call last)",
            "\u001b[0;32m<ipython-input-7-fa4f5e66d610>\u001b[0m in \u001b[0;36m<module>\u001b[0;34m()\u001b[0m\n\u001b[0;32m----> 1\u001b[0;31m \u001b[0mdf1\u001b[0m \u001b[0;34m=\u001b[0m \u001b[0mnewdf\u001b[0m\u001b[0;34m\u001b[0m\u001b[0;34m\u001b[0m\u001b[0m\n\u001b[0m\u001b[1;32m      2\u001b[0m \u001b[0mdf1\u001b[0m\u001b[0;34m[\u001b[0m\u001b[0;34m\"body\"\u001b[0m\u001b[0;34m]\u001b[0m \u001b[0;34m=\u001b[0m \u001b[0mnew_df\u001b[0m\u001b[0;34m[\u001b[0m\u001b[0;34m\"cleanbody\"\u001b[0m\u001b[0;34m]\u001b[0m\u001b[0;34m.\u001b[0m\u001b[0mapply\u001b[0m\u001b[0;34m(\u001b[0m\u001b[0mcleantext\u001b[0m\u001b[0;34m)\u001b[0m\u001b[0;34m\u001b[0m\u001b[0;34m\u001b[0m\u001b[0m\n\u001b[1;32m      3\u001b[0m \u001b[0mdf1\u001b[0m\u001b[0;34m(\u001b[0m\u001b[0mcolwidth\u001b[0m \u001b[0;34m=\u001b[0m \u001b[0;36m500\u001b[0m\u001b[0;34m)\u001b[0m\u001b[0;34m\u001b[0m\u001b[0;34m\u001b[0m\u001b[0m\n",
            "\u001b[0;31mNameError\u001b[0m: name 'newdf' is not defined"
          ]
        }
      ]
    },
    {
      "cell_type": "code",
      "metadata": {
        "id": "lxSXLyQZQEsk"
      },
      "source": [
        "import re\n",
        "import nltk\n",
        "import csv \n",
        "\n",
        "from bs4 import BeautifulSoup\n",
        "from bs4.element import Comment\n",
        "\n",
        "def _tag_visible(element):\n",
        "    \"\"\"given a BeautifulSoup4 element, return True if it's visible, False\n",
        "    otherwise\n",
        "    \"\"\"\n",
        "\n",
        "    if element.parent.name in ['style', 'script', 'head', 'title', 'meta']:\n",
        "        return False\n",
        "    if isinstance(element, Comment):\n",
        "        return False\n",
        "    return True\n",
        "\n",
        "\n",
        "def _yield_paragraphs(input_text):\n",
        "    \"\"\"Iterator that yields the text of the paragraphs in the input_text\n",
        "    variable\n",
        "    \"\"\"\n",
        "    if pd.isna(input_text):\n",
        "        return \"\"\n",
        "    soup = BeautifulSoup(input_text, \"lxml\")\n",
        "\n",
        "    if len(list(soup.children)) == 0:\n",
        "        return \"\"\n",
        "\n",
        "    # Before anything else, just replace <br> with a newline\n",
        "    for breaks in soup.find_all(\"br\"):\n",
        "        breaks.replace_with(\"\\n\")\n",
        "\n",
        "    # Elements that can contain sub-elements are paragraphs and lists\n",
        "    # for each of these, extract the text.  In the case of lists, add\n",
        "    # spaces between elements\n",
        "    for container in soup.html.body.find_all(\n",
        "            [\"p\", \"ul\", \"ol\"], recursive=False):\n",
        "        result = \"\"\n",
        "\n",
        "        if container.name == \"p\":\n",
        "            result = container.text\n",
        "        else:\n",
        "            container_subtags = container.findAll(text=True)\n",
        "            container_visible_texts = filter(_tag_visible,\n",
        "                                             container_subtags)\n",
        "            result = \" \".join(container_visible_texts)\n",
        "\n",
        "        # Do not yield strings that only contain newlines and spaces\n",
        "        if len(result.strip()) > 0:\n",
        "            yield result\n",
        "\n",
        "\n",
        "def strip_html(body):\n",
        "    \"\"\"Given an HTML string, return only the visible texts.\n",
        "    Has the following behaviors:\n",
        "       - Replaces <p> tags with spaces\n",
        "       - Replaces <br> tags with newlines\n",
        "       - Removes all other tags (not even leaving a space)\n",
        "    \"\"\"\n",
        "\n",
        "    all_texts = []\n",
        "    for para in _yield_paragraphs(body):\n",
        "        all_texts.append(para)\n",
        "    return u\" \".join(all_texts)\n",
        "\n",
        "\n",
        "def cleantext(input):\n",
        "    if not pd.isna(input):\n",
        "        # replaces paragraph tags with spaces\n",
        "        newString = re.sub(r\"<\\/?p>\", \" \", input)\n",
        "\n",
        "        # replaces linebreak tags with newlines\n",
        "        newString = re.sub(r\"<\\/?br>\", \"\\n\", newString)\n",
        "\n",
        "        # replaces all other tags (not even leaving a space)\n",
        "        newString = re.sub(\"<\\/?[a-z]+>\", \"\", newString)\n",
        "\n",
        "        return newString\n",
        "    return \"\""
      ],
      "execution_count": 7,
      "outputs": []
    },
    {
      "cell_type": "code",
      "metadata": {
        "colab": {
          "base_uri": "https://localhost:8080/",
          "height": 407
        },
        "id": "pwKW3PVp7HKf",
        "outputId": "7d1aa5d9-6fa8-4021-ae83-60b427f76b34"
      },
      "source": [
        "df[\"content01\"] = df[\"content\"].apply(strip_html)\n",
        "cleandf = df.drop(['content'], axis=1)\n",
        "\n",
        "columns_titles=[\"content01\",\"tag_1\"]\n",
        "cleandf=cleandf.reindex(columns=columns_titles)\n",
        "cleandf\n"
      ],
      "execution_count": 8,
      "outputs": [
        {
          "output_type": "execute_result",
          "data": {
            "text/html": [
              "<div>\n",
              "<style scoped>\n",
              "    .dataframe tbody tr th:only-of-type {\n",
              "        vertical-align: middle;\n",
              "    }\n",
              "\n",
              "    .dataframe tbody tr th {\n",
              "        vertical-align: top;\n",
              "    }\n",
              "\n",
              "    .dataframe thead th {\n",
              "        text-align: right;\n",
              "    }\n",
              "</style>\n",
              "<table border=\"1\" class=\"dataframe\">\n",
              "  <thead>\n",
              "    <tr style=\"text-align: right;\">\n",
              "      <th></th>\n",
              "      <th>content01</th>\n",
              "      <th>tag_1</th>\n",
              "    </tr>\n",
              "  </thead>\n",
              "  <tbody>\n",
              "    <tr>\n",
              "      <th>0</th>\n",
              "      <td></td>\n",
              "      <td>Business</td>\n",
              "    </tr>\n",
              "    <tr>\n",
              "      <th>1</th>\n",
              "      <td>In some states you can get your normal unemplo...</td>\n",
              "      <td>Economics</td>\n",
              "    </tr>\n",
              "    <tr>\n",
              "      <th>2</th>\n",
              "      <td>It is not a secret the the U.S. agricultural s...</td>\n",
              "      <td>Earth sciences</td>\n",
              "    </tr>\n",
              "    <tr>\n",
              "      <th>3</th>\n",
              "      <td>Desalinization may be the future of water secu...</td>\n",
              "      <td>Earth sciences</td>\n",
              "    </tr>\n",
              "    <tr>\n",
              "      <th>4</th>\n",
              "      <td>I don't think middle class disappear in the wo...</td>\n",
              "      <td>Economics</td>\n",
              "    </tr>\n",
              "    <tr>\n",
              "      <th>...</th>\n",
              "      <td>...</td>\n",
              "      <td>...</td>\n",
              "    </tr>\n",
              "    <tr>\n",
              "      <th>1492006</th>\n",
              "      <td>The cancer cells multiply if left untreated un...</td>\n",
              "      <td>Biology</td>\n",
              "    </tr>\n",
              "    <tr>\n",
              "      <th>1492007</th>\n",
              "      <td>In the article below, it mentions how some clo...</td>\n",
              "      <td>Biology</td>\n",
              "    </tr>\n",
              "    <tr>\n",
              "      <th>1492008</th>\n",
              "      <td>The Westward expansion of the United States bo...</td>\n",
              "      <td>Arts</td>\n",
              "    </tr>\n",
              "    <tr>\n",
              "      <th>1492009</th>\n",
              "      <td>Now more than ever, people have access to info...</td>\n",
              "      <td>Biology</td>\n",
              "    </tr>\n",
              "    <tr>\n",
              "      <th>1492010</th>\n",
              "      <td>Although, animal protein is one of the best so...</td>\n",
              "      <td>Biology</td>\n",
              "    </tr>\n",
              "  </tbody>\n",
              "</table>\n",
              "<p>1492011 rows × 2 columns</p>\n",
              "</div>"
            ],
            "text/plain": [
              "                                                 content01           tag_1\n",
              "0                                                                 Business\n",
              "1        In some states you can get your normal unemplo...       Economics\n",
              "2        It is not a secret the the U.S. agricultural s...  Earth sciences\n",
              "3        Desalinization may be the future of water secu...  Earth sciences\n",
              "4        I don't think middle class disappear in the wo...       Economics\n",
              "...                                                    ...             ...\n",
              "1492006  The cancer cells multiply if left untreated un...         Biology\n",
              "1492007  In the article below, it mentions how some clo...         Biology\n",
              "1492008  The Westward expansion of the United States bo...            Arts\n",
              "1492009  Now more than ever, people have access to info...         Biology\n",
              "1492010  Although, animal protein is one of the best so...         Biology\n",
              "\n",
              "[1492011 rows x 2 columns]"
            ]
          },
          "metadata": {
            "tags": []
          },
          "execution_count": 8
        }
      ]
    },
    {
      "cell_type": "code",
      "metadata": {
        "colab": {
          "base_uri": "https://localhost:8080/",
          "height": 407
        },
        "id": "akrpxzZW88JJ",
        "outputId": "94a76046-58b0-4320-fbd4-6650215eb601"
      },
      "source": [
        "df1 = cleandf[cleandf.content01 != '']\n",
        "df1"
      ],
      "execution_count": 10,
      "outputs": [
        {
          "output_type": "execute_result",
          "data": {
            "text/html": [
              "<div>\n",
              "<style scoped>\n",
              "    .dataframe tbody tr th:only-of-type {\n",
              "        vertical-align: middle;\n",
              "    }\n",
              "\n",
              "    .dataframe tbody tr th {\n",
              "        vertical-align: top;\n",
              "    }\n",
              "\n",
              "    .dataframe thead th {\n",
              "        text-align: right;\n",
              "    }\n",
              "</style>\n",
              "<table border=\"1\" class=\"dataframe\">\n",
              "  <thead>\n",
              "    <tr style=\"text-align: right;\">\n",
              "      <th></th>\n",
              "      <th>content01</th>\n",
              "      <th>tag_1</th>\n",
              "    </tr>\n",
              "  </thead>\n",
              "  <tbody>\n",
              "    <tr>\n",
              "      <th>1</th>\n",
              "      <td>In some states you can get your normal unemplo...</td>\n",
              "      <td>Economics</td>\n",
              "    </tr>\n",
              "    <tr>\n",
              "      <th>2</th>\n",
              "      <td>It is not a secret the the U.S. agricultural s...</td>\n",
              "      <td>Earth sciences</td>\n",
              "    </tr>\n",
              "    <tr>\n",
              "      <th>3</th>\n",
              "      <td>Desalinization may be the future of water secu...</td>\n",
              "      <td>Earth sciences</td>\n",
              "    </tr>\n",
              "    <tr>\n",
              "      <th>4</th>\n",
              "      <td>I don't think middle class disappear in the wo...</td>\n",
              "      <td>Economics</td>\n",
              "    </tr>\n",
              "    <tr>\n",
              "      <th>5</th>\n",
              "      <td>One of these countries at saw massive gains fr...</td>\n",
              "      <td>Economics</td>\n",
              "    </tr>\n",
              "    <tr>\n",
              "      <th>...</th>\n",
              "      <td>...</td>\n",
              "      <td>...</td>\n",
              "    </tr>\n",
              "    <tr>\n",
              "      <th>1492006</th>\n",
              "      <td>The cancer cells multiply if left untreated un...</td>\n",
              "      <td>Biology</td>\n",
              "    </tr>\n",
              "    <tr>\n",
              "      <th>1492007</th>\n",
              "      <td>In the article below, it mentions how some clo...</td>\n",
              "      <td>Biology</td>\n",
              "    </tr>\n",
              "    <tr>\n",
              "      <th>1492008</th>\n",
              "      <td>The Westward expansion of the United States bo...</td>\n",
              "      <td>Arts</td>\n",
              "    </tr>\n",
              "    <tr>\n",
              "      <th>1492009</th>\n",
              "      <td>Now more than ever, people have access to info...</td>\n",
              "      <td>Biology</td>\n",
              "    </tr>\n",
              "    <tr>\n",
              "      <th>1492010</th>\n",
              "      <td>Although, animal protein is one of the best so...</td>\n",
              "      <td>Biology</td>\n",
              "    </tr>\n",
              "  </tbody>\n",
              "</table>\n",
              "<p>1272174 rows × 2 columns</p>\n",
              "</div>"
            ],
            "text/plain": [
              "                                                 content01           tag_1\n",
              "1        In some states you can get your normal unemplo...       Economics\n",
              "2        It is not a secret the the U.S. agricultural s...  Earth sciences\n",
              "3        Desalinization may be the future of water secu...  Earth sciences\n",
              "4        I don't think middle class disappear in the wo...       Economics\n",
              "5        One of these countries at saw massive gains fr...       Economics\n",
              "...                                                    ...             ...\n",
              "1492006  The cancer cells multiply if left untreated un...         Biology\n",
              "1492007  In the article below, it mentions how some clo...         Biology\n",
              "1492008  The Westward expansion of the United States bo...            Arts\n",
              "1492009  Now more than ever, people have access to info...         Biology\n",
              "1492010  Although, animal protein is one of the best so...         Biology\n",
              "\n",
              "[1272174 rows x 2 columns]"
            ]
          },
          "metadata": {
            "tags": []
          },
          "execution_count": 10
        }
      ]
    },
    {
      "cell_type": "code",
      "metadata": {
        "id": "GNf5dZiX7gyB"
      },
      "source": [
        "def cleantext(input):\n",
        "    if not pd.isna(input):\n",
        "        # replaces paragraph tags with spaces\n",
        "        newString = re.sub(r\"<\\/?p>\", \" \", input)\n",
        "\n",
        "        # replaces linebreak tags with newlines\n",
        "        newString = re.sub(r\"<\\/?br>\", \"\\n\", newString)\n",
        "\n",
        "        # replaces all other tags (not even leaving a space)\n",
        "        newString = re.sub(\"<\\/?[a-z]+>\", \"\", newString)\n",
        "\n",
        "        return newString\n",
        "    return \"\""
      ],
      "execution_count": 11,
      "outputs": []
    },
    {
      "cell_type": "code",
      "metadata": {
        "id": "mv6Rqdmq7l7P"
      },
      "source": [
        "cleandf.to_csv(\"1m.csv\", header=None, index=False)"
      ],
      "execution_count": 12,
      "outputs": []
    },
    {
      "cell_type": "code",
      "metadata": {
        "id": "YtARrh6V9bni"
      },
      "source": [
        ""
      ],
      "execution_count": null,
      "outputs": []
    }
  ]
}